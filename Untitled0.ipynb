{
  "nbformat": 4,
  "nbformat_minor": 0,
  "metadata": {
    "colab": {
      "provenance": [],
      "toc_visible": true,
      "authorship_tag": "ABX9TyOV4XchEWVR3QyToUPeHSX0",
      "include_colab_link": true
    },
    "kernelspec": {
      "name": "python3",
      "display_name": "Python 3"
    },
    "language_info": {
      "name": "python"
    }
  },
  "cells": [
    {
      "cell_type": "markdown",
      "metadata": {
        "id": "view-in-github",
        "colab_type": "text"
      },
      "source": [
        "<a href=\"https://colab.research.google.com/github/MRHUB0/dataStoring-Collab/blob/main/Untitled0.ipynb\" target=\"_parent\"><img src=\"https://colab.research.google.com/assets/colab-badge.svg\" alt=\"Open In Colab\"/></a>"
      ]
    },
    {
      "cell_type": "markdown",
      "source": [
        "# Storytelling\n",
        "\n"
      ],
      "metadata": {
        "id": "-XKkBLdNFe8r"
      }
    },
    {
      "cell_type": "code",
      "source": [
        "this is image https://github.com/MRHUB0/dataStoring-Collab/issues/1#issue-1933717825"
      ],
      "metadata": {
        "id": "bMmi8uIGFeo0"
      },
      "execution_count": null,
      "outputs": []
    },
    {
      "cell_type": "markdown",
      "source": [
        "## Ingest"
      ],
      "metadata": {
        "id": "15wOpzwdGCQa"
      }
    },
    {
      "cell_type": "code",
      "source": [],
      "metadata": {
        "id": "S3tb0637GFkt"
      },
      "execution_count": null,
      "outputs": []
    },
    {
      "cell_type": "markdown",
      "source": [
        "EDA"
      ],
      "metadata": {
        "id": "FIbHHNm8GF1Y"
      }
    },
    {
      "cell_type": "code",
      "source": [],
      "metadata": {
        "id": "P1_3XBqBGHM6"
      },
      "execution_count": null,
      "outputs": []
    },
    {
      "cell_type": "markdown",
      "source": [
        "Conclusion"
      ],
      "metadata": {
        "id": "D150uZCzGHXR"
      }
    }
  ]
}